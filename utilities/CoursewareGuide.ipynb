{
 "cells": [
  {
   "cell_type": "markdown",
   "metadata": {},
   "source": [
    "# Courseware Guide for Principles of Planetary Climate"
   ]
  },
  {
   "cell_type": "markdown",
   "metadata": {},
   "source": [
    "## ClimateUtilities.py"
   ]
  },
  {
   "cell_type": "markdown",
   "metadata": {},
   "source": [
    "ClimateUtilities is my all-purpose collection of input-output, graphics and numerical analysis utilities used in support of the exercises. It is used so universally in the rest of the courseware that to avoid having to type ClimateUtilities frequently, we import it without its own namespace. Let's do that now:"
   ]
  },
  {
   "cell_type": "code",
   "execution_count": 45,
   "metadata": {
    "collapsed": true
   },
   "outputs": [],
   "source": [
    "import sys\n",
    "sys.path.append(r'D:\\Users\\thomas\\Coding\\Python\\climate\\python3')"
   ]
  },
  {
   "cell_type": "code",
   "execution_count": 46,
   "metadata": {
    "collapsed": false
   },
   "outputs": [],
   "source": [
    "import numpy as np\n",
    "import ClimateUtilities as cu\n",
    "import ClimateGraphicsMPL as cg"
   ]
  },
  {
   "cell_type": "markdown",
   "metadata": {},
   "source": [
    "### The Curve object"
   ]
  },
  {
   "cell_type": "markdown",
   "metadata": {},
   "source": [
    "The `Curve` object is an all-purpose data object I cooked up in order to make it easier to read, write, manipulate and plot tabular data.  A `Curve` object is designed to contain a set of columns of equal length. You can pick one of the columns (by default it's the first) and think of that as a coordinate (e.g. altitude).  The rest of the columns give the values of some quantities corresponding to each coordinate value in the first column.  \n",
    "\n",
    "The first step in using a `Curve` object is to create one.  You can of course create as many as you need, with whatever names strike your fancy.  Here we create a `Curve` object called `c`"
   ]
  },
  {
   "cell_type": "code",
   "execution_count": 47,
   "metadata": {
    "collapsed": false
   },
   "outputs": [],
   "source": [
    "c = cu.Curve()"
   ]
  },
  {
   "cell_type": "markdown",
   "metadata": {},
   "source": [
    "Having created it, we can now put some data in it. This is done with the `addCurve(...)` method. The first argument is any indexable collection of numbers (e.g. a list of floats, or a ` array`.  The second argument is optional. If present, it is a string that gives the name of the column.  If the name is absent, the `addCurve(...)` method will make up a name for you.  "
   ]
  },
  {
   "cell_type": "code",
   "execution_count": 48,
   "metadata": {
    "collapsed": false
   },
   "outputs": [],
   "source": [
    "c.addCurve(list(range(10)),'x')"
   ]
  },
  {
   "cell_type": "markdown",
   "metadata": {},
   "source": [
    "You refer to a column of data using its name, and the name of the column is treated as an \"index\" into the data. Here's a simple example, also illustrating that what is returned by the indexing operation is an array that you can do array arithmetic on:"
   ]
  },
  {
   "cell_type": "code",
   "execution_count": 49,
   "metadata": {
    "collapsed": false
   },
   "outputs": [
    {
     "name": "stdout",
     "output_type": "stream",
     "text": [
      "[0 1 2 3 4 5 6 7 8 9]\n",
      "[ 0  1  4  9 16 25 36 49 64 81]\n"
     ]
    }
   ],
   "source": [
    "print(c['x'])\n",
    "print(c['x']**2)"
   ]
  },
  {
   "cell_type": "markdown",
   "metadata": {},
   "source": [
    "Now let's add a second data column, which we'll call `y`"
   ]
  },
  {
   "cell_type": "code",
   "execution_count": 50,
   "metadata": {
    "collapsed": false
   },
   "outputs": [],
   "source": [
    "yData = [2.*xx**2 for xx in range(10)]\n",
    "c.addCurve(yData,'y')"
   ]
  },
  {
   "cell_type": "markdown",
   "metadata": {},
   "source": [
    "If you ever need to know what the names of the columns in a `Curve` object are, just use the method `listVariables()`:"
   ]
  },
  {
   "cell_type": "code",
   "execution_count": 51,
   "metadata": {
    "collapsed": false
   },
   "outputs": [
    {
     "data": {
      "text/plain": [
       "['x', 'y']"
      ]
     },
     "execution_count": 51,
     "metadata": {},
     "output_type": "execute_result"
    }
   ],
   "source": [
    "c.listVariables()"
   ]
  },
  {
   "cell_type": "markdown",
   "metadata": {},
   "source": [
    "You can do arithmetic on columns, and even store the results in a new named column, which will be created automatically:"
   ]
  },
  {
   "cell_type": "code",
   "execution_count": 52,
   "metadata": {
    "collapsed": false
   },
   "outputs": [
    {
     "name": "stdout",
     "output_type": "stream",
     "text": [
      "[   1.    3.    9.   19.   33.   51.   73.   99.  129.  163.]\n",
      "[   1.   13.   29.   49.   73.  101.  133.  169.  209.  253.]\n"
     ]
    }
   ],
   "source": [
    "c['y'] = c['y'] + 1.\n",
    "c['z'] = 10.*c['x'] + c['y']\n",
    "print(c['y'])\n",
    "print(c['z'])"
   ]
  },
  {
   "cell_type": "markdown",
   "metadata": {},
   "source": [
    "You can save your data to a tab-delimited text file using the `dump(...)` method.  The argument of the method is the filename:"
   ]
  },
  {
   "cell_type": "code",
   "execution_count": 53,
   "metadata": {
    "collapsed": false
   },
   "outputs": [],
   "source": [
    "c.dump('MyData.txt')"
   ]
  },
  {
   "cell_type": "markdown",
   "metadata": {},
   "source": [
    "You can read tabular data into a `Curve` object using the `readTable(...)` function in ClimateUtilities. Note that `ReadTable(...)` is not a method of a `Curve` object. It is just a stand-alone function, since it *returns* a newly created `Curve` object. Here we are reading our data back in again:"
   ]
  },
  {
   "cell_type": "code",
   "execution_count": 54,
   "metadata": {
    "collapsed": false
   },
   "outputs": [
    {
     "name": "stdout",
     "output_type": "stream",
     "text": [
      "[   1.    3.    9.   19.   33.   51.   73.   99.  129.  163.]\n"
     ]
    }
   ],
   "source": [
    "cNew = cu.readTable('MyData.txt')\n",
    "print(cNew['y'])"
   ]
  },
  {
   "cell_type": "markdown",
   "metadata": {},
   "source": [
    "You can make a new Curve object consisting of a subset of the original data, by using the extract(...) method. The argument of extract(...) is a list of the names of the curves you want to extract."
   ]
  },
  {
   "cell_type": "code",
   "execution_count": 55,
   "metadata": {
    "collapsed": false
   },
   "outputs": [
    {
     "name": "stdout",
     "output_type": "stream",
     "text": [
      "['x', 'z']\n"
     ]
    }
   ],
   "source": [
    "cSubset = c.extract(['x','z'])\n",
    "print(cSubset.listVariables())"
   ]
  },
  {
   "cell_type": "markdown",
   "metadata": {},
   "source": [
    "### Line plots with Curve objects"
   ]
  },
  {
   "cell_type": "markdown",
   "metadata": {},
   "source": [
    "One of the many things you might like to do with a `Curve` object is to plot it. This is done using the `ClimateUtilities` `plot(...)` function (not to be confused with plot commands in other graphics packages, such as `pylab`).  The `ClimateUtilities` `plot` command is actually designed to provide an interface to a range of different plotting packages -- it doesn't actually do the plot itself, but just turns what you want to do into commands the actual plotting package uses. This means that you won't have to change your programs if you or your sysadmin decides to change the plot package supported. The most widely supported plot package for Python is `MatPlotLib` (i.e. `pylab`), and this is the default the ClimateUtilities uses for drawing its plots.\n",
    "\n",
    "If you are using MatPlotLib as the graphics driver. the following command will cause the graphics to appear inline in the page, instead of in a separate window. "
   ]
  },
  {
   "cell_type": "code",
   "execution_count": 56,
   "metadata": {
    "collapsed": false
   },
   "outputs": [],
   "source": [
    "%matplotlib inline"
   ]
  },
  {
   "cell_type": "markdown",
   "metadata": {},
   "source": [
    "And here is an example plotting the `Curve` `c` defined earlier"
   ]
  },
  {
   "cell_type": "code",
   "execution_count": 57,
   "metadata": {
    "collapsed": false
   },
   "outputs": [
    {
     "data": {
      "text/plain": [
       "<ClimateGraphicsMPL.plotObj at 0x203ec790550>"
      ]
     },
     "execution_count": 57,
     "metadata": {},
     "output_type": "execute_result"
    },
    {
     "data": {
      "image/png": "[encoded data removed]",
      "text/plain": [
       "<matplotlib.figure.Figure at 0x203ec8085f8>"
      ]
     },
     "metadata": {},
     "output_type": "display_data"
    }
   ],
   "source": [
    "cg.plot(c)"
   ]
  },
  {
   "cell_type": "markdown",
   "metadata": {},
   "source": [
    "You can add axis labels and plot titles by setting options on the `Curve` object"
   ]
  },
  {
   "cell_type": "code",
   "execution_count": 58,
   "metadata": {
    "collapsed": false
   },
   "outputs": [
    {
     "data": {
      "text/plain": [
       "<ClimateGraphicsMPL.plotObj at 0x203ec87ad68>"
      ]
     },
     "execution_count": 58,
     "metadata": {},
     "output_type": "execute_result"
    },
    {
     "data": {
      "image/png": "[encoded data removed]",
      "text/plain": [
       "<matplotlib.figure.Figure at 0x203ec7646d8>"
      ]
     },
     "metadata": {},
     "output_type": "display_data"
    }
   ],
   "source": [
    "c.Xlabel = 'time (s)'\n",
    "c.Ylabel = 'Temperature (K)'\n",
    "c.PlotTitle = 'Temperature vs time'\n",
    "cg.plot(c)"
   ]
  },
  {
   "cell_type": "markdown",
   "metadata": {},
   "source": [
    "You can switch and reverse axes"
   ]
  },
  {
   "cell_type": "code",
   "execution_count": 59,
   "metadata": {
    "collapsed": false
   },
   "outputs": [
    {
     "data": {
      "text/plain": [
       "<ClimateGraphicsMPL.plotObj at 0x203ec8f6668>"
      ]
     },
     "execution_count": 59,
     "metadata": {},
     "output_type": "execute_result"
    },
    {
     "data": {
      "image/png": "[encoded data removed]",
      "text/plain": [
       "<matplotlib.figure.Figure at 0x203ec765780>"
      ]
     },
     "metadata": {},
     "output_type": "display_data"
    }
   ],
   "source": [
    "c.switchXY = True\n",
    "c.reverseX = True\n",
    "cg.plot(c)"
   ]
  },
  {
   "cell_type": "markdown",
   "metadata": {},
   "source": [
    "You can use logarathmic axes"
   ]
  },
  {
   "cell_type": "code",
   "execution_count": 60,
   "metadata": {
    "collapsed": false
   },
   "outputs": [
    {
     "data": {
      "text/plain": [
       "<ClimateGraphicsMPL.plotObj at 0x203ec969f60>"
      ]
     },
     "execution_count": 60,
     "metadata": {},
     "output_type": "execute_result"
    },
    {
     "data": {
      "image/png": "[encoded data removed]",
      "text/plain": [
       "<matplotlib.figure.Figure at 0x203ec78ce10>"
      ]
     },
     "metadata": {},
     "output_type": "display_data"
    }
   ],
   "source": [
    "c.XlogAxis = True\n",
    "cg.plot(c)"
   ]
  },
  {
   "cell_type": "markdown",
   "metadata": {},
   "source": [
    "You can also change the column that is considered to be the thing everything else is plotted agains. This only is needed for Curves with more than two columns (otherwise it would just have the same effect as switching axes)"
   ]
  },
  {
   "cell_type": "code",
   "execution_count": 61,
   "metadata": {
    "collapsed": false
   },
   "outputs": [
    {
     "data": {
      "text/plain": [
       "<ClimateGraphicsMPL.plotObj at 0x203ecb17eb8>"
      ]
     },
     "execution_count": 61,
     "metadata": {},
     "output_type": "execute_result"
    },
    {
     "data": {
      "image/png": "[encoded data removed]",
      "text/plain": [
       "<matplotlib.figure.Figure at 0x203ec986470>"
      ]
     },
     "metadata": {},
     "output_type": "display_data"
    }
   ],
   "source": [
    "c.Xid = 'z'\n",
    "cg.plot(c)"
   ]
  },
  {
   "cell_type": "markdown",
   "metadata": {},
   "source": [
    "You can plot multiple different Curve objects on the same graph by giving multiple Curves in the argument list of plot(...).  The Curve objects need not all have the same number of points"
   ]
  },
  {
   "cell_type": "code",
   "execution_count": 62,
   "metadata": {
    "collapsed": false
   },
   "outputs": [
    {
     "data": {
      "text/plain": [
       "<ClimateGraphicsMPL.plotObj at 0x203edce85f8>"
      ]
     },
     "execution_count": 62,
     "metadata": {},
     "output_type": "execute_result"
    },
    {
     "data": {
      "image/png": "[encoded data removed]",
      "text/plain": [
       "<matplotlib.figure.Figure at 0x203ec63c358>"
      ]
     },
     "metadata": {},
     "output_type": "display_data"
    }
   ],
   "source": [
    "c1 = cu.Curve()\n",
    "c1.addCurve(range(10),'time')\n",
    "c1.addCurve([2.*x for x in range(10)], 'data1')\n",
    "c2 = cu.Curve()\n",
    "c2.addCurve(range(20),'time1')\n",
    "c2.addCurve([x**.5 for x in range(20)],'data2')\n",
    "cg.plot(c1,c2)"
   ]
  },
  {
   "cell_type": "markdown",
   "metadata": {},
   "source": [
    "When doing plots with multiple Curves, any plot options like axis labels and plot titles are taken from the first Curve in the argument list. "
   ]
  },
  {
   "cell_type": "markdown",
   "metadata": {},
   "source": [
    "### Contour Plots of arrays"
   ]
  },
  {
   "cell_type": "markdown",
   "metadata": {},
   "source": [
    "Watch This Space"
   ]
  },
  {
   "cell_type": "markdown",
   "metadata": {},
   "source": [
    "### Numerical Analysis"
   ]
  },
  {
   "cell_type": "markdown",
   "metadata": {},
   "source": [
    "The ClimateUtilites module includes a number of basic numerical analysis routines. Most of these are written as classes, that create objects that do some desired numerical operation.  "
   ]
  },
  {
   "cell_type": "markdown",
   "metadata": {},
   "source": [
    "#### Root finding by Newton's method"
   ]
  },
  {
   "cell_type": "markdown",
   "metadata": {},
   "source": [
    "`newtsolve(...)` creates an object that finds roots of a function using Newton's method.  Here is an example of creating a root finder object for the problem $ x^2 - a = 0$. The object created is called `m`, but you could use any other Python name."
   ]
  },
  {
   "cell_type": "code",
   "execution_count": 63,
   "metadata": {
    "collapsed": false
   },
   "outputs": [],
   "source": [
    "def f(x):\n",
    "    return x*x - a\n",
    "m = cu.newtSolve(f)"
   ]
  },
  {
   "cell_type": "markdown",
   "metadata": {},
   "source": [
    "And here is an example of using it to find a root.  `m` is a *callable object*, whose argument is the initial guess at the root.  The way the function `f(...)` has been written the parameter `a` is specified as a global. After being called, if the root finding is successful, `m` returns the root."
   ]
  },
  {
   "cell_type": "code",
   "execution_count": 64,
   "metadata": {
    "collapsed": false
   },
   "outputs": [
    {
     "data": {
      "text/plain": [
       "1.4142135623730951"
      ]
     },
     "execution_count": 64,
     "metadata": {},
     "output_type": "execute_result"
    }
   ],
   "source": [
    "a = 2.\n",
    "m(5.)"
   ]
  },
  {
   "cell_type": "markdown",
   "metadata": {},
   "source": [
    "In simple cases, setting function arguments as globals works find, but sometimes this can become cumbersome and error prone. The `newtSolve` class allows for passing of an object (of any type) which can contain parameters.  Here's an example where the parameters of the function are passes as a list of two values"
   ]
  },
  {
   "cell_type": "code",
   "execution_count": 65,
   "metadata": {
    "collapsed": false
   },
   "outputs": [
    {
     "name": "stdout",
     "output_type": "stream",
     "text": [
      "1.2599210498948732\n",
      "1.189207115002721\n"
     ]
    }
   ],
   "source": [
    "def f(x,params):\n",
    "    n,a = params\n",
    "    return x**n - a\n",
    "m = cu.newtSolve(f)\n",
    "m.setParams([3.,2.]) #n=3,a=2\n",
    "print(m(5.))\n",
    "m.setParams([4.,2.]) #n=4, a=2\n",
    "print(m(5.))"
   ]
  },
  {
   "cell_type": "markdown",
   "metadata": {},
   "source": [
    "By default 'newtSolve' computes the derivative of the input function using the secant method (finite difference), but there is also an option to specify the derivative as a function. There are additional options. You can learn about them by typing `help(newtSolve)`"
   ]
  },
  {
   "cell_type": "markdown",
   "metadata": {},
   "source": [
    "#### Quadrature"
   ]
  },
  {
   "cell_type": "markdown",
   "metadata": {},
   "source": [
    "Numerical quadrature is the process of evaluating a definite integral such as \n",
    "\n",
    "$$\\int_a^b f(x) dx$$\n",
    "\n",
    "There are many ways of numerically implementing quadrature. Trapezoidal rule is a simple one. The ClimateUtilities class 'romberg' implements the Romberg interpolation method, which gives a highly accurate approximation to a definite integral, if the function $f$ is reasonably smooth.  (It can behave poorly if the function has discontinuities).  Here is an example of the use of the class to create a quadrature object called `m` for a function called `f`"
   ]
  },
  {
   "cell_type": "code",
   "execution_count": 66,
   "metadata": {
    "collapsed": false
   },
   "outputs": [],
   "source": [
    "def f(x):\n",
    "    return x\n",
    "m = cu.romberg(f)"
   ]
  },
  {
   "cell_type": "markdown",
   "metadata": {},
   "source": [
    "The object created is a callable object. The first argument is a pair of numbers (specified as a list or tuple) which give the limits of integration. The second argument is optional, and can be used to pass a set of parameters if the function needs it  Here we are using the object to evaluate the integral between $x=0$ and $x=1$."
   ]
  },
  {
   "cell_type": "code",
   "execution_count": 67,
   "metadata": {
    "collapsed": false
   },
   "outputs": [
    {
     "data": {
      "text/plain": [
       "0.5"
      ]
     },
     "execution_count": 67,
     "metadata": {},
     "output_type": "execute_result"
    }
   ],
   "source": [
    "m([0.,1.])"
   ]
  },
  {
   "cell_type": "markdown",
   "metadata": {},
   "source": [
    "Here's an example of a function that needs parameters specified. (This could also be done by treating the parameters as globals).  As in the previous example, we pass the parameters as a list of values, but the parameter argument can be any Python object at all, and can even include function names. In fact, in this case, one of the \"parameters\" passed is a function, `g`."
   ]
  },
  {
   "cell_type": "code",
   "execution_count": 68,
   "metadata": {
    "collapsed": false
   },
   "outputs": [
    {
     "data": {
      "text/plain": [
       "0.91242792766439229"
      ]
     },
     "execution_count": 68,
     "metadata": {},
     "output_type": "execute_result"
    }
   ],
   "source": [
    "import math #So we can use the exponential\n",
    "def f(x,MyParams):\n",
    "    g,n,tau = MyParams\n",
    "    return math.exp(-g(x)**n/tau)\n",
    "def g(x):\n",
    "    return x*x\n",
    "m = cu.romberg(f)\n",
    "m([0.,1.],[g,2.,2.])"
   ]
  },
  {
   "cell_type": "markdown",
   "metadata": {},
   "source": [
    "In a case like this, where you might not need the function `g` again, you could use a `lambda` function as the parameter argument and save several lines. Here we are doing the integral for the case $g(x) = x\\sin(x)$"
   ]
  },
  {
   "cell_type": "code",
   "execution_count": 69,
   "metadata": {
    "collapsed": false
   },
   "outputs": [
    {
     "data": {
      "text/plain": [
       "0.92882728998413955"
      ]
     },
     "execution_count": 69,
     "metadata": {},
     "output_type": "execute_result"
    }
   ],
   "source": [
    "m([0.,1.],[lambda x: x*math.sin(x),2.,2.])"
   ]
  },
  {
   "cell_type": "markdown",
   "metadata": {},
   "source": [
    "#### Interpolation"
   ]
  },
  {
   "cell_type": "markdown",
   "metadata": {},
   "source": [
    "The class `interp` takes a list of $x$ values and a list of corresponding $y$ values\n",
    "(of the same length) and creates a function (actually a callable object) that takes an arbitrary $x$ value as its argument and produces the interpolated $y$ value based on the input table.  It uses polynomial interpolation using the closest $n$ tabulated points on either side of the argument. By default, $n=4$, but you can specify other values by passing $n$ as an optional third argument to the creator. Here is an example using the default interpolation"
   ]
  },
  {
   "cell_type": "code",
   "execution_count": 70,
   "metadata": {
    "collapsed": false
   },
   "outputs": [],
   "source": [
    "xPoints = [0.,.5,1.,1.5,3.,5.,10.]\n",
    "yPoints = [1./(1.+x) for x in xPoints]\n",
    "MyFun = cu.interp(xPoints,yPoints)"
   ]
  },
  {
   "cell_type": "markdown",
   "metadata": {},
   "source": [
    "And here we are evaluating the function at a few points and comparing the values to the function used to make up 'yPoints'"
   ]
  },
  {
   "cell_type": "code",
   "execution_count": 71,
   "metadata": {
    "collapsed": false
   },
   "outputs": [
    {
     "name": "stdout",
     "output_type": "stream",
     "text": [
      "0.445199677438 0.4444444444444444\n",
      "0.184090909091 0.2\n",
      "0.05 0.125\n"
     ]
    }
   ],
   "source": [
    "print(MyFun(1.25), 1./(1.+1.25))\n",
    "print(MyFun(4.), 1./(1.+4.))\n",
    "print(MyFun(7.), 1./(1.+7.))"
   ]
  },
  {
   "cell_type": "markdown",
   "metadata": {},
   "source": [
    "Here we are trying again with a smaller number of points used in the interpolation"
   ]
  },
  {
   "cell_type": "code",
   "execution_count": 72,
   "metadata": {
    "collapsed": false
   },
   "outputs": [
    {
     "name": "stdout",
     "output_type": "stream",
     "text": [
      "0.45 0.4444444444444444\n",
      "0.208333333333 0.2\n",
      "0.136363636364 0.125\n"
     ]
    }
   ],
   "source": [
    "MyFun = cu.interp(xPoints,yPoints,1)\n",
    "print(MyFun(1.25), 1./(1.+1.25))\n",
    "print(MyFun(4.), 1./(1.+4.))\n",
    "print(MyFun(7.), 1./(1.+7.))"
   ]
  },
  {
   "cell_type": "markdown",
   "metadata": {},
   "source": [
    "This ilustrates the point that sometimes using too many points in an interpolation can introduce wiggles and make the result worse. The 2-point (linear) interpolation works better than the 8-point interpolation for the larger values of $x$"
   ]
  },
  {
   "cell_type": "markdown",
   "metadata": {},
   "source": [
    "#### Numerical integration of ordinary differential equations"
   ]
  },
  {
   "cell_type": "markdown",
   "metadata": {},
   "source": [
    "The class `integrator` creates an object that numerically integrates ordinary differential equations of the form \n",
    "\n",
    "$$ \\frac{dY}{dt} = F(t,Y) $$\n",
    "\n",
    "$Y$ is the dependent variable snd $t$ is the independent variable. In your own application, these might have different names.  This equation could represent a first order system in which the solution $Y(t)$ is just a real (or complex) valued function of $t$, but it could also represent a higher order system in which both $Y$ and the slope function $F$ are vectors (arrays). \n",
    "\n",
    "`integrator` uses the Runge-Kutta method for carrying out the integration.\n",
    "\n",
    "The first argument of `integrator`  is the function defining the slope ($F$ in the equation above). The second argument is the initial value of the independent variable ($t$ above) and the third argument is the initial value of the dependent variable $Y$ above.\n",
    "\n",
    "First, here's an example for a first order system with $F(t,Y) = - Y$.  We'll use different names for $Y$,  $F$ and $t$ just to emphasize that you an choose whatever names that help you remember what you are computing"
   ]
  },
  {
   "cell_type": "code",
   "execution_count": 73,
   "metadata": {
    "collapsed": false
   },
   "outputs": [],
   "source": [
    "def slope(x,Z): #Function must have independent variable as an argument, even if not used\n",
    "    return -Z \n",
    "xStart = 0.\n",
    "ZStart = 1.\n",
    "m = cu.integrator(slope,xStart,ZStart)"
   ]
  },
  {
   "cell_type": "markdown",
   "metadata": {},
   "source": [
    "And here we are using the integrator. The method that steps the solution from one value of the independent variable to the next (an increment `dx` further on) is called `next` and takes the increment `dx` as an argument (smaller is usually more accurate). It returns a list containing the new value of the independent and dependent variable. Here is a typical use in a loop. This loop compares the approximate result to the exact result."
   ]
  },
  {
   "cell_type": "code",
   "execution_count": 74,
   "metadata": {
    "collapsed": false
   },
   "outputs": [
    {
     "name": "stdout",
     "output_type": "stream",
     "text": [
      "0.5 0.6067708333333334 0.6065306597126334\n",
      "1.0 0.3681708441840278 0.36787944117144233\n",
      "1.5 0.2233953299345794 0.22313016014842982\n",
      "2.0 0.1355497705071797 0.1353352832366127\n",
      "2.5 0.08224764720878353 0.0820849986238988\n",
      "3.0 0.049905473436579584 0.049787068367863944\n",
      "3.5 0.030281185705007926 0.0301973834223185\n",
      "4.0 0.018373740284549078 0.01831563888873418\n",
      "4.5 0.011148649703906083 0.011108996538242306\n",
      "5.0 0.006764675471380514 0.006737946999085467\n"
     ]
    }
   ],
   "source": [
    "x = xStart\n",
    "xFinish = 5.\n",
    "while x<xFinish:\n",
    "    x,Z = m.next(.5)\n",
    "    print(x,Z,math.exp(-x))\n"
   ]
  },
  {
   "cell_type": "markdown",
   "metadata": {},
   "source": [
    "Here's an example for a case where the slope function has parameters. It works similarly to `newtSolve`. Again, the parameter object can be any Python object at all. "
   ]
  },
  {
   "cell_type": "code",
   "execution_count": 75,
   "metadata": {
    "collapsed": false
   },
   "outputs": [
    {
     "name": "stdout",
     "output_type": "stream",
     "text": [
      "0.5 0.9958414611816406\n",
      "1.0 0.9672150411245334\n",
      "1.5 0.893595710161651\n",
      "2.0 0.7659257673984696\n",
      "2.5 0.5940241249706562\n",
      "3.0 0.406591183688796\n",
      "3.5 0.2396240906779104\n",
      "4.0 0.11877174615174955\n",
      "4.5 0.048568654378555634\n",
      "5.0 0.016294984937618502\n"
     ]
    }
   ],
   "source": [
    "def slope(x,Z,Constants):\n",
    "    a,n = Constants\n",
    "    return -a* x**n * Z\n",
    "m = cu.integrator(slope,xStart,ZStart)\n",
    "m.setParams([.1,2]) #Sets the parameter object to correspond to a = .1, n=2\n",
    "                    #This will be passed to slope as the object called Constants\n",
    "x = xStart\n",
    "while x<5.:\n",
    "    x,Z = m.next(.5)\n",
    "    print(x,Z)"
   ]
  },
  {
   "cell_type": "markdown",
   "metadata": {},
   "source": [
    "More typically, you'd want to save the results for plotting. Here's an example that shows you a typical method for doing this, by accumulating results in a list. \n",
    "\n",
    "We recreate the integrator to reset the starting values, which is usually the least confusing way to do this. (Future implementations of `integrator` will provide a more convenient way to restart)."
   ]
  },
  {
   "cell_type": "code",
   "execution_count": 76,
   "metadata": {
    "collapsed": false
   },
   "outputs": [
    {
     "data": {
      "text/plain": [
       "<ClimateGraphicsMPL.plotObj at 0x203ec982f28>"
      ]
     },
     "execution_count": 76,
     "metadata": {},
     "output_type": "execute_result"
    },
    {
     "data": {
      "image/png": "[encoded data removed]",
      "text/plain": [
       "<matplotlib.figure.Figure at 0x203edc46e48>"
      ]
     },
     "metadata": {},
     "output_type": "display_data"
    }
   ],
   "source": [
    "m = cu.integrator(slope,xStart,ZStart)\n",
    "m.setParams([.1,2])\n",
    "\n",
    "xList = [xStart]\n",
    "ZList = [ZStart]\n",
    "x=xStart\n",
    "while x<5.:\n",
    "    x,Z = m.next(.1) #Use a smaller step\n",
    "    xList.append(x)\n",
    "    ZList.append(Z)\n",
    "#Put the data in a Curve object and plot\n",
    "c = cu.Curve()\n",
    "c.addCurve(xList,'x')\n",
    "c.addCurve(ZList,'Z')\n",
    "cg.plot(c)"
   ]
  },
  {
   "cell_type": "markdown",
   "metadata": {},
   "source": [
    "Now we'll illustrate how to integrate a higher order system. As our example we'll use the system\n",
    "\n",
    "$$ \\frac{dx}{dt} = - y , $\\frac{dy}{dt} = x$$\n",
    "\n",
    "which will be re-cast in the vector form\n",
    "\n",
    "$$\\frac{d}{dt} \\left[ \\begin{array}{c} x\\\\y \\end{array} \\right] = \\left[ \\begin{array}{c} -y\\\\x \\end{array} \\right] $$\n",
    "\n",
    "Thus the slope function $F$ is the vector on the right hand side, and the \"state variable\" is the vector on the left hand side, which we'll call $S$. $F$ is a function of $S$.\n",
    "\n",
    "Here is how we implement the solution. `integrator` is used exactly the same way. All we need to do is to write the slope function so that it takes a `numpy` array as input and produces a `numpy` array as output. Note that the array returned must be a *newly created* array . The initial value for the dependent variable given to `integrator` must also be a `numpy` array."
   ]
  },
  {
   "cell_type": "code",
   "execution_count": 77,
   "metadata": {
    "collapsed": false
   },
   "outputs": [],
   "source": [
    "def F(t,S):\n",
    "    x,y = S\n",
    "    return np.array([-y,x])\n",
    "tStart = 0.\n",
    "SStart = np.array([1.,0.])\n",
    "m = cu.integrator(F,tStart,SStart)"
   ]
  },
  {
   "cell_type": "markdown",
   "metadata": {},
   "source": [
    "And here we are doing the integration and plotting the results in the x-y plane"
   ]
  },
  {
   "cell_type": "code",
   "execution_count": 78,
   "metadata": {
    "collapsed": false
   },
   "outputs": [
    {
     "data": {
      "text/plain": [
       "<ClimateGraphicsMPL.plotObj at 0x203ecb8b748>"
      ]
     },
     "execution_count": 78,
     "metadata": {},
     "output_type": "execute_result"
    },
    {
     "data": {
      "image/png": "[encoded data removed]",
      "text/plain": [
       "<matplotlib.figure.Figure at 0x203edc8fb00>"
      ]
     },
     "metadata": {},
     "output_type": "display_data"
    }
   ],
   "source": [
    "SList = [SStart]\n",
    "t = tStart\n",
    "while t<10.:\n",
    "    t,S = m.next(.1)\n",
    "    SList.append(S.copy()) #Need to make a copy, otherwise list just contains all refs to same S!\n",
    "\n",
    "#SList is a list of numpy arrays. The following separates out the x values and y values\n",
    "xL = [S[0] for S in SList]\n",
    "yL = [S[1] for S in SList]\n",
    "#Put in a Curve object and plot\n",
    "c = cu.Curve()\n",
    "c.addCurve(xL,'x')\n",
    "c.addCurve(yL,'y')\n",
    "cg.plot(c)"
   ]
  },
  {
   "cell_type": "markdown",
   "metadata": {},
   "source": [
    "Did you expect to see a circle? I hope so!"
   ]
  },
  {
   "cell_type": "markdown",
   "metadata": {},
   "source": [
    "## phys.py"
   ]
  },
  {
   "cell_type": "markdown",
   "metadata": {},
   "source": [
    "Watch This Space"
   ]
  },
  {
   "cell_type": "markdown",
   "metadata": {},
   "source": [
    "## planets.py"
   ]
  },
  {
   "cell_type": "markdown",
   "metadata": {},
   "source": [
    "Watch This Space"
   ]
  },
  {
   "cell_type": "code",
   "execution_count": null,
   "metadata": {
    "collapsed": false
   },
   "outputs": [],
   "source": []
  }
 ],
 "metadata": {
  "kernelspec": {
   "display_name": "Python 3",
   "language": "python",
   "name": "python3"
  },
  "language_info": {
   "codemirror_mode": {
    "name": "ipython",
    "version": 3
   },
   "file_extension": ".py",
   "mimetype": "text/x-python",
   "name": "python",
   "nbconvert_exporter": "python",
   "pygments_lexer": "ipython3",
   "version": "3.5.1"
  }
 },
 "nbformat": 4,
 "nbformat_minor": 0
}
