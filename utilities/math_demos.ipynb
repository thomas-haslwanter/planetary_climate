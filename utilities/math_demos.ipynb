{
 "cells": [
  {
   "cell_type": "markdown",
   "metadata": {},
   "source": [
    "# Important Math Utilities for Principles of Planetary Climate"
   ]
  },
  {
   "cell_type": "markdown",
   "metadata": {},
   "source": [
    "This *notebook* shows how the tasks previously accomplished by *ClimateUtilities.py* and *ClimateGraphicsMPL.py* can be done with *pandas* and *scipy*.\n",
    "\n",
    "Compare this notebook to `old_ClimateUtilities\\CoursewareGuide.ipynb`"
   ]
  },
  {
   "cell_type": "code",
   "execution_count": 1,
   "metadata": {
    "collapsed": true
   },
   "outputs": [],
   "source": [
    "import sys\n",
    "sys.path.append(r'D:\\Users\\thomas\\Coding\\Python\\climate\\python3\\utilities')"
   ]
  },
  {
   "cell_type": "code",
   "execution_count": 2,
   "metadata": {
    "collapsed": false
   },
   "outputs": [],
   "source": [
    "import numpy as np\n",
    "import matplotlib.pyplot as plt\n",
    "import pandas as pd"
   ]
  },
  {
   "cell_type": "markdown",
   "metadata": {},
   "source": [
    "### DataFrames"
   ]
  },
  {
   "cell_type": "markdown",
   "metadata": {},
   "source": [
    "`DataFrames` replace the `Curve` objects, as  an all-purpose data object  cooked up in order to make it easier to read, write, manipulate and plot tabular data."
   ]
  },
  {
   "cell_type": "code",
   "execution_count": 3,
   "metadata": {
    "collapsed": false
   },
   "outputs": [],
   "source": [
    "df = pd.DataFrame()"
   ]
  },
  {
   "cell_type": "markdown",
   "metadata": {},
   "source": [
    "Having created it, we can now put some data in it."
   ]
  },
  {
   "cell_type": "code",
   "execution_count": 4,
   "metadata": {
    "collapsed": false
   },
   "outputs": [],
   "source": [
    "df['x'] = list(range(10))"
   ]
  },
  {
   "cell_type": "markdown",
   "metadata": {},
   "source": [
    "You refer to a column of data using its name, and the name of the column is treated as an \"index\" into the data. Here's a simple example, also illustrating that what is returned by the indexing operation is an array that you can do array arithmetic on:"
   ]
  },
  {
   "cell_type": "code",
   "execution_count": 5,
   "metadata": {
    "collapsed": false
   },
   "outputs": [
    {
     "name": "stdout",
     "output_type": "stream",
     "text": [
      "0    0\n",
      "1    1\n",
      "2    2\n",
      "3    3\n",
      "4    4\n",
      "5    5\n",
      "6    6\n",
      "7    7\n",
      "8    8\n",
      "9    9\n",
      "Name: x, dtype: int64\n",
      "0     0\n",
      "1     1\n",
      "2     4\n",
      "3     9\n",
      "4    16\n",
      "5    25\n",
      "6    36\n",
      "7    49\n",
      "8    64\n",
      "9    81\n",
      "Name: x, dtype: int64\n"
     ]
    }
   ],
   "source": [
    "print(df['x'])\n",
    "print(df['x']**2)"
   ]
  },
  {
   "cell_type": "markdown",
   "metadata": {},
   "source": [
    "Now let's add a second data column, which we'll call `y`"
   ]
  },
  {
   "cell_type": "code",
   "execution_count": 6,
   "metadata": {
    "collapsed": false
   },
   "outputs": [],
   "source": [
    "yData = [2.*xx**2 for xx in range(10)]\n",
    "df['y'] = yData"
   ]
  },
  {
   "cell_type": "markdown",
   "metadata": {},
   "source": [
    "If you ever need to know what the names of the columns in a `DataFrame` object are, just use the property `columns`:"
   ]
  },
  {
   "cell_type": "code",
   "execution_count": 7,
   "metadata": {
    "collapsed": false
   },
   "outputs": [
    {
     "data": {
      "text/plain": [
       "Index(['x', 'y'], dtype='object')"
      ]
     },
     "execution_count": 7,
     "metadata": {},
     "output_type": "execute_result"
    }
   ],
   "source": [
    "df.columns"
   ]
  },
  {
   "cell_type": "markdown",
   "metadata": {},
   "source": [
    "You can do arithmetic on columns, and even store the results in a new named column, which will be created automatically:"
   ]
  },
  {
   "cell_type": "code",
   "execution_count": 8,
   "metadata": {
    "collapsed": false
   },
   "outputs": [
    {
     "name": "stdout",
     "output_type": "stream",
     "text": [
      "0      1.0\n",
      "1      3.0\n",
      "2      9.0\n",
      "3     19.0\n",
      "4     33.0\n",
      "5     51.0\n",
      "6     73.0\n",
      "7     99.0\n",
      "8    129.0\n",
      "9    163.0\n",
      "Name: y, dtype: float64\n",
      "0      1.0\n",
      "1     13.0\n",
      "2     29.0\n",
      "3     49.0\n",
      "4     73.0\n",
      "5    101.0\n",
      "6    133.0\n",
      "7    169.0\n",
      "8    209.0\n",
      "9    253.0\n",
      "Name: z, dtype: float64\n"
     ]
    }
   ],
   "source": [
    "df['y'] = df['y'] + 1.\n",
    "df['z'] = 10.*df['x'] + df['y']\n",
    "print(df['y'])\n",
    "print(df['z'])"
   ]
  },
  {
   "cell_type": "markdown",
   "metadata": {},
   "source": [
    "You can save your data to a tab-delimited text file using the `to_cvs(...)` method. (If you are new to *pandas*, also check out the other formats you can write to, by typing `df.to_+TAB`.)  The argument of the method is the filename:"
   ]
  },
  {
   "cell_type": "code",
   "execution_count": 9,
   "metadata": {
    "collapsed": false
   },
   "outputs": [],
   "source": [
    "df.to_csv('out.txt', sep='\\t', index=False)"
   ]
  },
  {
   "cell_type": "markdown",
   "metadata": {},
   "source": [
    "You can read tabular data into a `DataFrame` object using the `read_csv(...)` function. (Again, thera are many `pd.read_ ...` functions available.) Here we are reading our data back in again:"
   ]
  },
  {
   "cell_type": "code",
   "execution_count": 10,
   "metadata": {
    "collapsed": false
   },
   "outputs": [
    {
     "name": "stdout",
     "output_type": "stream",
     "text": [
      "   x      y      z\n",
      "0  0    1.0    1.0\n",
      "1  1    3.0   13.0\n",
      "2  2    9.0   29.0\n",
      "3  3   19.0   49.0\n",
      "4  4   33.0   73.0\n",
      "5  5   51.0  101.0\n",
      "6  6   73.0  133.0\n",
      "7  7   99.0  169.0\n",
      "8  8  129.0  209.0\n",
      "9  9  163.0  253.0\n"
     ]
    }
   ],
   "source": [
    "data = pd.read_csv('out.txt', sep='\\t')\n",
    "print(data)"
   ]
  },
  {
   "cell_type": "markdown",
   "metadata": {},
   "source": [
    "`read_csv` has a large number of options, which allow you to read in almost all kind of data."
   ]
  },
  {
   "cell_type": "markdown",
   "metadata": {},
   "source": [
    "You can make a new DataFrame object consisting of a subset of the original data:"
   ]
  },
  {
   "cell_type": "code",
   "execution_count": 11,
   "metadata": {
    "collapsed": false
   },
   "outputs": [
    {
     "name": "stdout",
     "output_type": "stream",
     "text": [
      "   x      z\n",
      "0  0    1.0\n",
      "1  1   13.0\n",
      "2  2   29.0\n",
      "3  3   49.0\n",
      "4  4   73.0\n",
      "5  5  101.0\n",
      "6  6  133.0\n",
      "7  7  169.0\n",
      "8  8  209.0\n",
      "9  9  253.0\n"
     ]
    }
   ],
   "source": [
    "df_subset = df[['x','z']]\n",
    "print(df_subset)"
   ]
  },
  {
   "cell_type": "markdown",
   "metadata": {},
   "source": [
    "### Line plots with DataFrame objects"
   ]
  },
  {
   "cell_type": "code",
   "execution_count": 12,
   "metadata": {
    "collapsed": false
   },
   "outputs": [],
   "source": [
    "%matplotlib inline"
   ]
  },
  {
   "cell_type": "markdown",
   "metadata": {},
   "source": [
    "And here is an example plotting the `DataFrame` `df` defined earlier"
   ]
  },
  {
   "cell_type": "code",
   "execution_count": 13,
   "metadata": {
    "collapsed": false
   },
   "outputs": [
    {
     "data": {
      "text/plain": [
       "<matplotlib.axes._subplots.AxesSubplot at 0x1e4ba6ffcc0>"
      ]
     },
     "execution_count": 13,
     "metadata": {},
     "output_type": "execute_result"
    },
    {
     "data": {
      "image/png": "[encoded data removed]",
      "text/plain": [
       "<matplotlib.figure.Figure at 0x1e4b7f3f550>"
      ]
     },
     "metadata": {},
     "output_type": "display_data"
    }
   ],
   "source": [
    "df.plot()"
   ]
  },
  {
   "cell_type": "markdown",
   "metadata": {},
   "source": [
    "If you selecting  a given axis for the abscissa, the labels are automatically generated. Otherwise, you can use standard *matplotlib* to format the plot."
   ]
  },
  {
   "cell_type": "code",
   "execution_count": 14,
   "metadata": {
    "collapsed": false
   },
   "outputs": [
    {
     "data": {
      "text/plain": [
       "<matplotlib.text.Text at 0x1e4bab39b70>"
      ]
     },
     "execution_count": 14,
     "metadata": {},
     "output_type": "execute_result"
    },
    {
     "data": {
      "image/png": "[encoded data removed]",
      "text/plain": [
       "<matplotlib.figure.Figure at 0x1e4ba71f5c0>"
      ]
     },
     "metadata": {},
     "output_type": "display_data"
    }
   ],
   "source": [
    "df.plot('x', 'y')\n",
    "plt.title('Temperature vs time')\n",
    "plt.ylabel('Temperature [K]')"
   ]
  },
  {
   "cell_type": "markdown",
   "metadata": {},
   "source": [
    "You can reverse axes, use log-scales, etc"
   ]
  },
  {
   "cell_type": "code",
   "execution_count": 15,
   "metadata": {
    "collapsed": false
   },
   "outputs": [
    {
     "data": {
      "image/png": "[encoded data removed]",
      "text/plain": [
       "<matplotlib.figure.Figure at 0x1e4bab82470>"
      ]
     },
     "metadata": {},
     "output_type": "display_data"
    }
   ],
   "source": [
    "df.plot('x', 'y', logy=True)\n",
    "ah = plt.gca()\n",
    "ah.invert_yaxis()"
   ]
  },
  {
   "cell_type": "markdown",
   "metadata": {},
   "source": [
    "You can plot multiple lines on the same graph: "
   ]
  },
  {
   "cell_type": "code",
   "execution_count": 16,
   "metadata": {
    "collapsed": false
   },
   "outputs": [
    {
     "data": {
      "text/plain": [
       "<matplotlib.axes._subplots.AxesSubplot at 0x1e4bbd06c18>"
      ]
     },
     "execution_count": 16,
     "metadata": {},
     "output_type": "execute_result"
    },
    {
     "data": {
      "image/png": "[encoded data removed]",
      "text/plain": [
       "<matplotlib.figure.Figure at 0x1e4bbcf3240>"
      ]
     },
     "metadata": {},
     "output_type": "display_data"
    }
   ],
   "source": [
    "df.plot('x', ['y', 'z'])"
   ]
  },
  {
   "cell_type": "markdown",
   "metadata": {},
   "source": [
    "### Numerical Analysis"
   ]
  },
  {
   "cell_type": "markdown",
   "metadata": {},
   "source": [
    "#### Root finding by Newton's method"
   ]
  },
  {
   "cell_type": "markdown",
   "metadata": {},
   "source": [
    "Here is an example of creating a root finder object for the problem $ x^2 - a = 0$."
   ]
  },
  {
   "cell_type": "code",
   "execution_count": 17,
   "metadata": {
    "collapsed": false
   },
   "outputs": [
    {
     "name": "stdout",
     "output_type": "stream",
     "text": [
      "1.4142135623730947\n"
     ]
    }
   ],
   "source": [
    "from scipy.optimize import newton\n",
    "def f(x):\n",
    "    return x*x - 2\n",
    "initial_guess = 1\n",
    "m = newton(f, initial_guess)\n",
    "print(m)"
   ]
  },
  {
   "cell_type": "markdown",
   "metadata": {},
   "source": [
    "Here's an example where the parameters of the function are passes as a list of two values"
   ]
  },
  {
   "cell_type": "code",
   "execution_count": 18,
   "metadata": {
    "collapsed": false
   },
   "outputs": [
    {
     "name": "stdout",
     "output_type": "stream",
     "text": [
      "1.25992104989478\n"
     ]
    }
   ],
   "source": [
    "def f(x, n, a):\n",
    "    return x**n - a\n",
    "initial_guess = 1\n",
    "m = newton(f, initial_guess, args=(3, 2)) #n=3,a=2\n",
    "print(m)\n"
   ]
  },
  {
   "cell_type": "markdown",
   "metadata": {},
   "source": [
    "#### Quadrature"
   ]
  },
  {
   "cell_type": "markdown",
   "metadata": {},
   "source": [
    "Numerical quadrature is the process of evaluating a definite integral such as \n",
    "\n",
    "$$\\int_a^b f(x) dx$$\n",
    "\n",
    "There are many ways of numerically implementing quadrature. Trapezoidal rule is a simple one. The Romberg interpolation method gives a highly accurate approximation to a definite integral, if the function $f$ is reasonably smooth.  (It can behave poorly if the function has discontinuities).  Here is an example, where we evaluate the integral between $x=0$ and $x=1$:"
   ]
  },
  {
   "cell_type": "code",
   "execution_count": 19,
   "metadata": {
    "collapsed": false
   },
   "outputs": [
    {
     "name": "stdout",
     "output_type": "stream",
     "text": [
      "0.5\n"
     ]
    }
   ],
   "source": [
    "from scipy.integrate import romberg\n",
    "def f(x):\n",
    "    return x\n",
    "m = romberg(f, 0, 1)\n",
    "print(m)"
   ]
  },
  {
   "cell_type": "markdown",
   "metadata": {},
   "source": [
    "Here's an example of a function that needs parameters specified."
   ]
  },
  {
   "cell_type": "code",
   "execution_count": 20,
   "metadata": {
    "collapsed": false
   },
   "outputs": [
    {
     "name": "stdout",
     "output_type": "stream",
     "text": [
      "0.912427927687\n"
     ]
    }
   ],
   "source": [
    "def f(x, g, n, tau):\n",
    "    return np.exp(-g(x)**n/tau)\n",
    "def g(x):\n",
    "    return x**2\n",
    "parameters = (g, 2, 2)\n",
    "m = romberg(f, 0, 1, args=parameters)\n",
    "print(m)"
   ]
  },
  {
   "cell_type": "markdown",
   "metadata": {},
   "source": [
    "In a case like this, where you might not need the function `g` again, you could use a `lambda` function as the parameter argument and save several lines. Here we are doing the integral for the case $g(x) = x\\sin(x)$"
   ]
  },
  {
   "cell_type": "code",
   "execution_count": 22,
   "metadata": {
    "collapsed": false
   },
   "outputs": [
    {
     "name": "stdout",
     "output_type": "stream",
     "text": [
      "0.928827289952\n"
     ]
    }
   ],
   "source": [
    "m = romberg(f, 0, 1, args=(lambda x: x*np.sin(x),2.,2.))\n",
    "print(m)"
   ]
  },
  {
   "cell_type": "markdown",
   "metadata": {},
   "source": [
    "#### Interpolation"
   ]
  },
  {
   "cell_type": "markdown",
   "metadata": {},
   "source": [
    "There are several general interpolation facilities available in SciPy, for data in 1, 2, and higher dimensions:\n",
    "\n",
    "* A class representing an interpolant (interp1d) in 1-D, offering several interpolation methods.\n",
    "* Convenience function griddata offering a simple interface to interpolation in N dimensions (N = 1, 2, 3, 4, ...). Object-oriented interface for the underlying routines is also available.\n",
    "* Functions for 1- and 2-dimensional (smoothed) cubic-spline interpolation, based on the FORTRAN library FITPACK. There are both procedural and object-oriented interfaces for the FITPACK library.\n",
    "* Interpolation using Radial Basis Functions.\n",
    "\n",
    "##### 1-D interpolation (interp1d)\n",
    "\n",
    "The interp1d class in scipy.interpolate is a convenient method to create a function based on fixed data points which can be evaluated anywhere within the domain defined by the given data using linear interpolation. An instance of this class is created by passing the 1-d vectors comprising the data. The instance of this class defines a `__call__` method and can therefore by treated like a function which interpolates between known data values to obtain unknown values (it also has a docstring for help). Behavior at the boundary can be specified at instantiation time. The following example demonstrates its use, for linear and cubic spline interpolation:"
   ]
  },
  {
   "cell_type": "code",
   "execution_count": 23,
   "metadata": {
    "collapsed": false
   },
   "outputs": [
    {
     "data": {
      "image/png": "[encoded data removed]",
      "text/plain": [
       "<matplotlib.figure.Figure at 0x1e4bc19b550>"
      ]
     },
     "metadata": {},
     "output_type": "display_data"
    }
   ],
   "source": [
    "from scipy.interpolate import interp1d\n",
    "\n",
    "# Generate some data\n",
    "x = np.linspace(0, 10, num=11, endpoint=True)\n",
    "y = np.cos(-x**2/9.0)\n",
    "xnew = np.linspace(0, 10, num=41, endpoint=True)\n",
    "\n",
    "# Make a \"linear\" and a \"cubic\" interpolation object\n",
    "f = interp1d(x, y)\n",
    "f2 = interp1d(x, y, kind='cubic')\n",
    "\n",
    "# Calculate and plot the interpolated data\n",
    "plt.plot(x, y, 'o', label='data')\n",
    "plt.plot(xnew, f(xnew), '-', label='linear')\n",
    "plt.plot(xnew, f2(xnew),'--', label='cubic')\n",
    "plt.legend()\n",
    "plt.show()"
   ]
  },
  {
   "cell_type": "markdown",
   "metadata": {},
   "source": [
    "#### Numerical integration of ordinary differential equations"
   ]
  },
  {
   "cell_type": "markdown",
   "metadata": {},
   "source": [
    "Many tasks require a numerical integration of ordinary differential equations of the form \n",
    "\n",
    "$$ \\frac{dY}{dt} = F(t,Y) $$\n",
    "\n",
    "$Y$ is the dependent variable snd $t$ is the independent variable. In your own application, these might have different names.  This equation could represent a first order system in which the solution $Y(t)$ is just a real (or complex) valued function of $t$, but it could also represent a higher order system in which both $Y$ and the slope function $F$ are vectors (arrays). "
   ]
  },
  {
   "cell_type": "code",
   "execution_count": 24,
   "metadata": {
    "collapsed": false
   },
   "outputs": [
    {
     "data": {
      "text/plain": [
       "[<matplotlib.lines.Line2D at 0x1e4bc520518>]"
      ]
     },
     "execution_count": 24,
     "metadata": {},
     "output_type": "execute_result"
    },
    {
     "data": {
      "image/png": "[encoded data removed]",
      "text/plain": [
       "<matplotlib.figure.Figure at 0x1e4bc4cbf60>"
      ]
     },
     "metadata": {},
     "output_type": "display_data"
    }
   ],
   "source": [
    "from scipy.integrate import odeint\n",
    "\n",
    "def slope(x, t): #Function must have independent variable as an argument, even if not used\n",
    "    return np.cos(t) \n",
    "\n",
    "yStart = 0\n",
    "t = np.linspace(0, 4*np.pi, 101)\n",
    "y = odeint(slope, yStart, t)\n",
    "plt.plot(t,y)"
   ]
  },
  {
   "cell_type": "markdown",
   "metadata": {},
   "source": [
    "Here's an example for a case where the slope function has parameters:"
   ]
  },
  {
   "cell_type": "code",
   "execution_count": 27,
   "metadata": {
    "collapsed": false
   },
   "outputs": [
    {
     "data": {
      "text/plain": [
       "[<matplotlib.lines.Line2D at 0x1e4bc5eadd8>]"
      ]
     },
     "execution_count": 27,
     "metadata": {},
     "output_type": "execute_result"
    },
    {
     "data": {
      "image/png": "[encoded data removed]",
      "text/plain": [
       "<matplotlib.figure.Figure at 0x1e4bc55a588>"
      ]
     },
     "metadata": {},
     "output_type": "display_data"
    }
   ],
   "source": [
    "def slope(x, t, a, b):\n",
    "    return -a* x**b * t\n",
    "\n",
    "xStart = 0.1\n",
    "t = np.linspace(0,5, 101)\n",
    "\n",
    "a, b = 0.1, 2  # set the parameters\n",
    "x = odeint(slope,xStart,t, args=(a,b))\n",
    "\n",
    "plt.plot(t, x)"
   ]
  },
  {
   "cell_type": "markdown",
   "metadata": {},
   "source": [
    "Now we'll illustrate how to integrate a higher order system. As our example we'll use the system\n",
    "\n",
    "$$ \\frac{dx}{dt} = - y , $\\frac{dy}{dt} = x$$\n",
    "\n",
    "which will be re-cast in the vector form\n",
    "\n",
    "$$\\frac{d}{dt} \\left[ \\begin{array}{c} x\\\\y \\end{array} \\right] = \\left[ \\begin{array}{c} -y\\\\x \\end{array} \\right] $$\n",
    "\n",
    "Thus the slope function $F$ is the vector on the right hand side, and the \"state variable\" is the vector on the left hand side, which we'll call $S$. $F$ is a function of $S$.\n",
    "\n",
    "Here is how we implement the solution. `integrator` is used exactly the same way. All we need to do is to write the slope function so that it takes a `numpy` array as input and produces a `numpy` array as output. Note that the array returned must be a *newly created* array . The initial value for the dependent variable given to `integrator` must also be a `numpy` array."
   ]
  },
  {
   "cell_type": "code",
   "execution_count": 38,
   "metadata": {
    "collapsed": false
   },
   "outputs": [
    {
     "data": {
      "text/plain": [
       "(-1, 1)"
      ]
     },
     "execution_count": 38,
     "metadata": {},
     "output_type": "execute_result"
    },
    {
     "data": {
      "image/png": "[encoded data removed]",
      "text/plain": [
       "<matplotlib.figure.Figure at 0x1e4bc46c160>"
      ]
     },
     "metadata": {},
     "output_type": "display_data"
    }
   ],
   "source": [
    "def F(S, t):\n",
    "    x,y = S\n",
    "    return np.array([-y,x])\n",
    "S_start = np.array([1.,0.])\n",
    "t = np.linspace(0, 2*np.pi, 101)\n",
    "S = odeint(F, S_start,t)\n",
    "fig = plt.figure()\n",
    "ax = fig.add_subplot(111, aspect='equal')\n",
    "ax.plot(S[:,0], S[:,1])\n",
    "ax.set_xlim(-1, 1)\n",
    "ax.set_ylim(-1,1)"
   ]
  },
  {
   "cell_type": "markdown",
   "metadata": {},
   "source": [
    "And here we are doing the integration and plotting the results in the x-y plane"
   ]
  },
  {
   "cell_type": "markdown",
   "metadata": {},
   "source": [
    "Did you expect to see a circle? I hope so!"
   ]
  }
 ],
 "metadata": {
  "kernelspec": {
   "display_name": "Python 3",
   "language": "python",
   "name": "python3"
  },
  "language_info": {
   "codemirror_mode": {
    "name": "ipython",
    "version": 3
   },
   "file_extension": ".py",
   "mimetype": "text/x-python",
   "name": "python",
   "nbconvert_exporter": "python",
   "pygments_lexer": "ipython3",
   "version": "3.5.1"
  }
 },
 "nbformat": 4,
 "nbformat_minor": 0
}
